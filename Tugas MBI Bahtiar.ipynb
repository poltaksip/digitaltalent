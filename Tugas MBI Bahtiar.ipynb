{
 "cells": [
  {
   "cell_type": "code",
   "execution_count": 2,
   "metadata": {},
   "outputs": [
    {
     "name": "stdout",
     "output_type": "stream",
     "text": [
      "Welcome to BMI Calculator\n",
      "Please input Your Weight in Kg :171\n",
      "Please input Your Height in cm : 70\n",
      "=======================================\n",
      "=========== BMI Calculation ===========\n",
      "=======================================\n",
      "Weight   : 171\n",
      "Height   : 70\n",
      "BMI      : 348.98\n",
      "Category : Very severely obese\n"
     ]
    }
   ],
   "source": [
    "categories = ['Very severely underweight',\n",
    "              'Severely underweight',\n",
    "              'Underweight',\n",
    "              'Normal (healthy weight)',\n",
    "              'Overweight',\n",
    "              'Moderately obese',\n",
    "              'Severely obese',\n",
    "              'Very severely obese']\n",
    "\n",
    "# main function, input : Weight (kg) and Height (cm)\n",
    "def calculate_bmi(weight, height):\n",
    "    bmi = weight / (height/100) ** 2\n",
    "    if bmi < 15:\n",
    "        cat_num = 0\n",
    "    elif 15 <= bmi < 16:\n",
    "        cat_num = 1\n",
    "    elif 16 <= bmi < 18.5:\n",
    "        cat_num = 2\n",
    "    elif 18.5 <= bmi < 25:\n",
    "        cat_num = 3\n",
    "    elif 25 <= bmi < 30:\n",
    "        cat_num = 4\n",
    "    elif 30 <= bmi < 35:\n",
    "        cat_num = 5\n",
    "    elif 35 <= bmi < 40:\n",
    "        cat_num = 6\n",
    "    else: cat_num = 7\n",
    "\n",
    "    return round(bmi, 2), categories[cat_num]\n",
    "\n",
    "\n",
    "# get input from user\n",
    "print(\"Welcome to BMI Calculator\")\n",
    "\n",
    "input_weight = int(input('Please input Your Weight in Kg :'), 0)\n",
    "input_height = int(input('Please input Your Height in cm : '), 0)\n",
    "\n",
    "# calculate BMI\n",
    "result_bmi = calculate_bmi(input_weight, input_height)\n",
    "\n",
    "# print result\n",
    "print(\"=======================================\")\n",
    "print(\"=========== BMI Calculation ===========\")\n",
    "print(\"=======================================\")\n",
    "print(\"Weight   :\", input_weight)\n",
    "print(\"Height   :\", input_height)\n",
    "print(\"BMI      :\", result_bmi[0])\n",
    "print(\"Category :\", result_bmi[1])"
   ]
  },
  {
   "cell_type": "code",
   "execution_count": null,
   "metadata": {},
   "outputs": [],
   "source": []
  }
 ],
 "metadata": {
  "kernelspec": {
   "display_name": "Python 3",
   "language": "python",
   "name": "python3"
  },
  "language_info": {
   "codemirror_mode": {
    "name": "ipython",
    "version": 3
   },
   "file_extension": ".py",
   "mimetype": "text/x-python",
   "name": "python",
   "nbconvert_exporter": "python",
   "pygments_lexer": "ipython3",
   "version": "3.7.0"
  }
 },
 "nbformat": 4,
 "nbformat_minor": 2
}
