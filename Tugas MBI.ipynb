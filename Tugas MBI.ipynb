{
 "cells": [
  {
   "cell_type": "markdown",
   "metadata": {},
   "source": [
    "# Practise\n",
    "## Body Mass Index (BMI) Calculator \n",
    "#### name : Wahyu Agus Prasetyo\n",
    "\n",
    "Body Mass Index (BMI) menentukan sebuah keidealan berat badan terhadap tinggi badan. Berikut adalah formula dari BMI : BMI = weight (kg) ÷ height^2 (m^2)\n",
    "\n",
    "Berikut adalah kategorisasi BMI:\t\n",
    "- Kurang dari 15\tVery severely underweight\t\n",
    "- Diantara 15 dan 16\tSeverely underweight\t\n",
    "- Diantara 16 dan 18.5\tUnderweight\t\n",
    "- Diantara 18.5 dan 25\tNormal (healthy weight)\t\n",
    "- Diantara 25 dan 30\tOverweight\t\n",
    "- Diantara 30 dan 35\tModerately obese\t\n",
    "- Diantara 35 dan 40\tSeverely obese\t\n",
    "- Over 40\tVery severely obese\n",
    "\n",
    "Buatlah sebuah program yang memiliki dua variabel berat badan dengan satuan KG, dan tinggi badan dengan satuan CM, kemudian keluaran dari program adalah Kategori BMI"
   ]
  },
  {
   "cell_type": "code",
   "execution_count": 22,
   "metadata": {},
   "outputs": [
    {
     "name": "stdout",
     "output_type": "stream",
     "text": [
      "Your Weight = 78 kg\n",
      "Your Height = 171 cm\n",
      "Your BMI Score = 26.67\n",
      "Category = Overweight\n"
     ]
    }
   ],
   "source": [
    "#Varible input\n",
    "weight = 78\n",
    "height = 171\n",
    "print(\"Your Weight = \" + str(weight) + \" kg\")\n",
    "print(\"Your Height = \" + str(height) + \" cm\")\n",
    "\n",
    "#Calculate BMI Score\n",
    "bmi = weight / (height/100) ** 2\n",
    "print(\"Your BMI Score = \" + \"%.2f\" % bmi)\n",
    "\n",
    "#Category Quotation\n",
    "if bmi < 15:\n",
    "    print(\"Category = Very severely underweight\")\n",
    "elif 15 <= bmi < 16:\n",
    "    print(\"Category = Severely underweight\")\n",
    "elif 16 <= bmi < 18.5:\n",
    "    print(\"Category = Underweight\")\n",
    "elif 18.5 <= bmi < 25:\n",
    "    print(\"Category = Normal (healthy wight)\")\n",
    "elif 25 <= bmi < 30:\n",
    "    print(\"Category = Overweight\")\n",
    "elif 30 <= bmi < 35:\n",
    "    print(\"Category = Moderately obese\")\n",
    "elif 35 <= bmi < 40:\n",
    "    print(\"Category = Severely obese\")\n",
    "elif bmi > 40:\n",
    "    print(\"Category = Very severely obese\")"
   ]
  }
 ],
 "metadata": {
  "kernelspec": {
   "display_name": "Python 3",
   "language": "python",
   "name": "python3"
  },
  "language_info": {
   "codemirror_mode": {
    "name": "ipython",
    "version": 3
   },
   "file_extension": ".py",
   "mimetype": "text/x-python",
   "name": "python",
   "nbconvert_exporter": "python",
   "pygments_lexer": "ipython3",
   "version": "3.7.0"
  }
 },
 "nbformat": 4,
 "nbformat_minor": 2
}
