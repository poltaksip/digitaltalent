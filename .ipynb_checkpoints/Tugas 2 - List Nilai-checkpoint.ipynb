{
 "cells": [
  {
   "cell_type": "markdown",
   "metadata": {},
   "source": [
    "## LATIHAN 2 List Nilai\n",
    "\n",
    "Diberikan sekumpulan Nilai Random antara 0 sampai dengan 100 sebanyak 250 nilai. Buatlah program untuk melakukan hal berikut:\n",
    "1. Tampilkan Angka Ganjil dari ke 50 nilai tersebut\n",
    "2. Tampilkan berapa banyak yang mendapatkan nilai lebih dari 70\n",
    "3. Tampilkan standar deviasi dari sekumpulan nilai tersebut\n",
    "4. Tampilkan nilai maksimum dan minimum\n",
    "5. Tampilkan modus dari sekumpulan nilai tersebut"
   ]
  },
  {
   "cell_type": "code",
   "execution_count": 4,
   "metadata": {},
   "outputs": [
    {
     "name": "stdout",
     "output_type": "stream",
     "text": [
      "[41, 33, 26, 93, 90, 12, 10, 6, 21, 97, 71, 39, 1, 94, 38, 53, 40, 86, 50, 67, 4, 36, 56, 69, 65, 72, 57, 30, 98, 13, 96, 16, 7, 66, 94, 51, 83, 25, 68, 95, 32, 83, 86, 22, 66, 13, 41, 93, 24, 27, 35, 77, 17, 4, 44, 61, 15, 84, 23, 73, 17, 38, 89, 50, 72, 59, 56, 79, 15, 46, 64, 11, 89, 17, 63, 53, 11, 14, 40, 88, 33, 48, 46, 43, 84, 54, 28, 82, 19, 27, 8, 41, 67, 12, 7, 15, 14, 22, 17, 9, 78, 20, 58, 51, 44, 19, 43, 18, 59, 98, 82, 6, 6, 44, 87, 92, 30, 95, 20, 5, 78, 29, 51, 10, 62, 35, 2, 92, 4, 45, 33, 54, 25, 37, 54, 80, 36, 19, 23, 42, 25, 71, 85, 32, 82, 98, 70, 22, 75, 35, 64, 51, 58, 85, 9, 56, 2, 22, 42, 39, 27, 30, 90, 74, 35, 24, 35, 35, 52, 95, 29, 58, 18, 15, 43, 47, 82, 36, 2, 83, 25, 63, 45, 47, 64, 55, 77, 79, 42, 50, 61, 45, 66, 66, 2, 49, 3, 46, 18, 44, 57, 44, 74, 42, 29, 71, 13, 44, 30, 68, 97, 52, 26, 30, 28, 20, 15, 71, 10, 82, 15, 69, 58, 41, 18, 44, 25, 18, 54, 45, 69, 23, 61, 79, 75, 29, 45, 85, 77, 83, 38, 5, 40, 66, 82, 19, 63, 56, 88, 96]\n"
     ]
    }
   ],
   "source": [
    "import random\n",
    "\n",
    "# Generate Random\n",
    "nilaitugas = []\n",
    "for i in range(250):\n",
    "    nilaitugas.append(random.randrange(1,100,1))\n",
    "\n",
    "print(nilaitugas)"
   ]
  },
  {
   "cell_type": "markdown",
   "metadata": {},
   "source": [
    "#### 1. Bilangan ganjil"
   ]
  },
  {
   "cell_type": "code",
   "execution_count": 5,
   "metadata": {},
   "outputs": [
    {
     "name": "stdout",
     "output_type": "stream",
     "text": [
      "Nilai Bilangan Ganjil :\n",
      "[41, 33, 93, 21, 97, 71, 39, 1, 53, 67, 69, 65, 57, 13, 7, 51, 83, 25, 95, 83, 13, 41, 93, 27, 35, 77, 17, 61, 15, 23, 73, 17, 89, 59, 79, 15, 11, 89, 17, 63, 53, 11, 33, 43, 19, 27, 41, 67, 7, 15, 17, 9, 51, 19, 43, 59, 87, 95, 5, 29, 51, 35, 45, 33, 25, 37, 19, 23, 25, 71, 85, 75, 35, 51, 85, 9, 39, 27, 35, 35, 35, 95, 29, 15, 43, 47, 83, 25, 63, 45, 47, 55, 77, 79, 61, 45, 49, 3, 57, 29, 71, 13, 97, 15, 71, 15, 69, 41, 25, 45, 69, 23, 61, 79, 75, 29, 45, 85, 77, 83, 5, 19, 63]\n"
     ]
    }
   ],
   "source": [
    "ganjil = []\n",
    "\n",
    "for n in nilaitugas:\n",
    "    if n % 2 !=0:\n",
    "        ganjil.append(n)\n",
    "\n",
    "print(\"Nilai Bilangan Ganjil :\")\n",
    "print(ganjil)"
   ]
  },
  {
   "cell_type": "markdown",
   "metadata": {},
   "source": [
    "#### 2. Nilai > 70"
   ]
  },
  {
   "cell_type": "code",
   "execution_count": 6,
   "metadata": {},
   "outputs": [
    {
     "name": "stdout",
     "output_type": "stream",
     "text": [
      "Nilai Lebih Dari 70 :\n",
      "[93, 90, 97, 71, 94, 86, 72, 98, 96, 94, 83, 95, 83, 86, 93, 77, 84, 73, 89, 72, 79, 89, 88, 84, 82, 78, 98, 82, 87, 92, 95, 78, 92, 80, 71, 85, 82, 98, 75, 85, 90, 74, 95, 82, 83, 77, 79, 74, 71, 97, 71, 82, 79, 75, 85, 77, 83, 82, 88, 96]\n"
     ]
    }
   ],
   "source": [
    "lebih_dari = []\n",
    "\n",
    "for n in nilaitugas:\n",
    "    if n > 70:\n",
    "        lebih_dari.append(n)\n",
    "\n",
    "print(\"Nilai Lebih Dari 70 :\")\n",
    "print(lebih_dari)"
   ]
  },
  {
   "cell_type": "markdown",
   "metadata": {},
   "source": [
    "#### 3. Standar deviasi"
   ]
  },
  {
   "cell_type": "code",
   "execution_count": 7,
   "metadata": {},
   "outputs": [
    {
     "name": "stdout",
     "output_type": "stream",
     "text": [
      "11751\n"
     ]
    }
   ],
   "source": [
    "total = 0\n",
    "\n",
    "for n in nilaitugas:\n",
    "    total += n\n",
    "    \n",
    "print(total)"
   ]
  },
  {
   "cell_type": "code",
   "execution_count": 8,
   "metadata": {},
   "outputs": [
    {
     "name": "stdout",
     "output_type": "stream",
     "text": [
      "736543\n"
     ]
    }
   ],
   "source": [
    "total_2 = 0\n",
    "\n",
    "for n in nilaitugas:\n",
    "    n_2 = n**2\n",
    "    total_2 += n_2\n",
    "    \n",
    "print(total_2)"
   ]
  },
  {
   "cell_type": "code",
   "execution_count": 9,
   "metadata": {},
   "outputs": [
    {
     "name": "stdout",
     "output_type": "stream",
     "text": [
      "x =  46049749\n",
      "y =  62250\n",
      "Varian = 739.755\n"
     ]
    }
   ],
   "source": [
    "data = len(nilaitugas)\n",
    "\n",
    "x = ((data*total_2)-(total**2))\n",
    "y = (data*(data-1))\n",
    "\n",
    "print(\"x = \",x)\n",
    "print(\"y = \",y)\n",
    "\n",
    "varian = x/y\n",
    "print(\"Varian =\",(round(varian,5)))"
   ]
  },
  {
   "cell_type": "code",
   "execution_count": 10,
   "metadata": {},
   "outputs": [
    {
     "name": "stdout",
     "output_type": "stream",
     "text": [
      "Standar Deviasi = 27.2\n"
     ]
    }
   ],
   "source": [
    "import math \n",
    "\n",
    "std_dev = math.sqrt(varian)\n",
    "\n",
    "print(\"Standar Deviasi =\",(round(std_dev,2)))"
   ]
  },
  {
   "cell_type": "markdown",
   "metadata": {},
   "source": [
    "#### 4. Maksimum"
   ]
  },
  {
   "cell_type": "code",
   "execution_count": 11,
   "metadata": {},
   "outputs": [
    {
     "name": "stdout",
     "output_type": "stream",
     "text": [
      "Nilai maksimum = 98\n"
     ]
    }
   ],
   "source": [
    "maksimum = 0\n",
    "\n",
    "for n in nilaitugas:\n",
    "    if n > maksimum:\n",
    "        maksimum = n\n",
    "print(\"Nilai maksimum =\",maksimum)"
   ]
  },
  {
   "cell_type": "markdown",
   "metadata": {},
   "source": [
    "##### 5. Minimum"
   ]
  },
  {
   "cell_type": "code",
   "execution_count": 12,
   "metadata": {},
   "outputs": [
    {
     "name": "stdout",
     "output_type": "stream",
     "text": [
      "Nilai minimum = 1\n"
     ]
    }
   ],
   "source": [
    "minimum = 100 \n",
    "\n",
    "for n in nilaitugas:\n",
    "    if n < minimum:\n",
    "        minimum = n \n",
    "print(\"Nilai minimum =\",minimum)"
   ]
  },
  {
   "cell_type": "markdown",
   "metadata": {},
   "source": [
    "#### 6. Modus"
   ]
  },
  {
   "cell_type": "code",
   "execution_count": 17,
   "metadata": {},
   "outputs": [
    {
     "name": "stdout",
     "output_type": "stream",
     "text": [
      "List frekuentsi :\n",
      "{41: 4, 33: 3, 26: 2, 93: 2, 90: 2, 12: 2, 10: 3, 6: 3, 21: 1, 97: 2, 71: 4, 39: 2, 1: 1, 94: 2, 38: 3, 53: 2, 40: 3, 86: 2, 50: 3, 67: 2, 4: 3, 36: 3, 56: 4, 69: 3, 65: 1, 72: 2, 57: 2, 30: 5, 98: 3, 13: 3, 96: 2, 16: 1, 7: 2, 66: 5, 51: 4, 83: 4, 25: 5, 68: 2, 95: 3, 32: 2, 22: 4, 24: 2, 27: 3, 35: 6, 77: 3, 17: 4, 44: 7, 61: 3, 15: 6, 84: 2, 23: 3, 73: 1, 89: 2, 59: 2, 79: 3, 46: 3, 64: 3, 11: 2, 63: 3, 14: 2, 88: 2, 48: 1, 43: 3, 54: 4, 28: 2, 82: 6, 19: 4, 8: 1, 9: 2, 78: 2, 20: 3, 58: 4, 18: 5, 87: 1, 92: 2, 5: 2, 29: 4, 62: 1, 2: 4, 45: 5, 37: 1, 80: 1, 42: 4, 85: 3, 70: 1, 75: 2, 74: 2, 52: 2, 47: 2, 55: 1, 49: 1, 3: 1}\n"
     ]
    }
   ],
   "source": [
    "#Membuat list frekuensi muncul\n",
    "list_freq = {}\n",
    "\n",
    "for n in nilaitugas:\n",
    "    if n not in list_freq:\n",
    "        list_freq[n] = 1\n",
    "    else:\n",
    "        list_freq[n] = list_freq[n] + 1\n",
    "\n",
    "print(\"List frekuentsi :\")\n",
    "print(list_freq)"
   ]
  },
  {
   "cell_type": "code",
   "execution_count": 18,
   "metadata": {},
   "outputs": [
    {
     "name": "stdout",
     "output_type": "stream",
     "text": [
      "Niali yang paling banyak muncul = 7\n"
     ]
    }
   ],
   "source": [
    "max_count = 0\n",
    "\n",
    "for key in list_freq: \n",
    "    if list_freq[key] > max_count:\n",
    "        max_count = list_freq[key]\n",
    "        \n",
    "print(\"Niali yang paling banyak muncul =\",max_count)"
   ]
  },
  {
   "cell_type": "code",
   "execution_count": 19,
   "metadata": {},
   "outputs": [
    {
     "name": "stdout",
     "output_type": "stream",
     "text": [
      "Modus = [44]\n"
     ]
    }
   ],
   "source": [
    "modus = []\n",
    "\n",
    "for key in list_freq:\n",
    "    if list_freq[key] == max_count:\n",
    "        modus.append(key)\n",
    "\n",
    "print(\"Modus =\", modus)"
   ]
  },
  {
   "cell_type": "code",
   "execution_count": null,
   "metadata": {},
   "outputs": [],
   "source": []
  }
 ],
 "metadata": {
  "kernelspec": {
   "display_name": "Python 3",
   "language": "python",
   "name": "python3"
  },
  "language_info": {
   "codemirror_mode": {
    "name": "ipython",
    "version": 3
   },
   "file_extension": ".py",
   "mimetype": "text/x-python",
   "name": "python",
   "nbconvert_exporter": "python",
   "pygments_lexer": "ipython3",
   "version": "3.7.0"
  }
 },
 "nbformat": 4,
 "nbformat_minor": 2
}
